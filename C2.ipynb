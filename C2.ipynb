{
  "nbformat": 4,
  "nbformat_minor": 0,
  "metadata": {
    "colab": {
      "provenance": []
    },
    "kernelspec": {
      "name": "python3",
      "display_name": "Python 3"
    },
    "language_info": {
      "name": "python"
    }
  },
  "cells": [
    {
      "cell_type": "code",
      "execution_count": null,
      "metadata": {
        "id": "bKnN4Ma-QRAg"
      },
      "outputs": [],
      "source": [
        "# comments.py\n",
        "#!/usr/bin/env python3\n",
        "#\n",
        "#       some comments\n",
        "#\n",
        "x = 10                          # an integer\n",
        "y = \"hello there!\"              # a string\n",
        "z = \"This # is not a comment \""
      ]
    },
    {
      "cell_type": "code",
      "source": [
        "# multiline.py\n",
        "#!/usr/bin/env python3\n",
        "\"\"\"\n",
        "   \tThis is an example of a\n",
        "   \tmulti-line comment\n",
        "\"\"\"\n",
        "\"\"\" another one \"\"\"\n"
      ],
      "metadata": {
        "colab": {
          "base_uri": "https://localhost:8080/",
          "height": 56
        },
        "id": "OGb919NwQ9cX",
        "outputId": "d0f441a1-b4b6-4617-979c-c0be340f436f"
      },
      "execution_count": null,
      "outputs": [
        {
          "output_type": "execute_result",
          "data": {
            "text/plain": [
              "' another one '"
            ],
            "application/vnd.google.colaboratory.intrinsic+json": {
              "type": "string"
            }
          },
          "metadata": {},
          "execution_count": 8
        }
      ]
    },
    {
      "cell_type": "code",
      "source": [
        "# strings.py\n",
        "#!/usr/bin/env python3\n",
        "x = \"www.trainingetc.com\"\n",
        "result = x.startswith(\"www\")\n",
        "print(result)\n",
        "print(x.endswith(\".org\"))\n",
        "y = x.upper()\n",
        "print(\"ORIGINAL\", x)\n",
        "print(\"RETURNED\", y)"
      ],
      "metadata": {
        "colab": {
          "base_uri": "https://localhost:8080/"
        },
        "id": "tzJ17Z5qRSln",
        "outputId": "3b4ce548-6f7a-4140-9232-a0712339e891"
      },
      "execution_count": null,
      "outputs": [
        {
          "output_type": "stream",
          "name": "stdout",
          "text": [
            "True\n",
            "False\n",
            "ORIGINAL www.trainingetc.com\n",
            "RETURNED WWW.TRAININGETC.COM\n"
          ]
        }
      ]
    },
    {
      "cell_type": "code",
      "source": [
        "# string conversions.py\n",
        "#!/usr/bin/env python3\n",
        "print(\"This Is A Sample String\".swapcase())\n",
        "print(\"ALL To Lower Case\".lower())\n",
        "print(\"this will be capitalized\".capitalize())\n",
        "print(\"this will be title case\".title())\n"
      ],
      "metadata": {
        "colab": {
          "base_uri": "https://localhost:8080/"
        },
        "id": "8YvOaGGrRIy_",
        "outputId": "99108c47-3e76-4593-bfbd-ec6dd17fa5a1"
      },
      "execution_count": null,
      "outputs": [
        {
          "output_type": "stream",
          "name": "stdout",
          "text": [
            "tHIS iS a sAMPLE sTRING\n",
            "all to lower case\n",
            "This will be capitalized\n",
            "This Will Be Title Case\n"
          ]
        }
      ]
    },
    {
      "cell_type": "code",
      "source": [
        "# stringtypes.py\n",
        "#!/usr/bin/env python3\n",
        "print(\"AbCDefg\".isalpha(), \"AbCDe123\".isalpha())\n",
        "print(\"12345\".isnumeric(), \"12345BCD\".isnumeric())\n",
        "print(\"   \\t\\n\".isspace(), \"a  b\\t\\n\".isspace())\n",
        "print(\"ABCDEFG\".isupper(), \"abcdefg\".isupper())\n",
        "print(\"abcdefg\".islower(), \"ABCDEFG\".islower())"
      ],
      "metadata": {
        "colab": {
          "base_uri": "https://localhost:8080/"
        },
        "id": "QWTogQ9xRYye",
        "outputId": "7a01a4ae-2436-4117-8dab-9c6149929da4"
      },
      "execution_count": null,
      "outputs": [
        {
          "output_type": "stream",
          "name": "stdout",
          "text": [
            "True False\n",
            "True False\n",
            "True False\n",
            "True False\n",
            "True False\n"
          ]
        }
      ]
    },
    {
      "cell_type": "code",
      "source": [
        "# morestrings.and\n",
        "#!/usr/bin/env python3\n",
        "x = \"Capital of Mississippi is Jackson\"\n",
        "pos = x.find(\"is\")\n",
        "print(pos)\n",
        "print(x.find(\"is\", pos + 1))\n",
        "print(x.find(\"is\", 8, 12))\n",
        "print()\n",
        "\n",
        "x = \"1 1 1 1abc\"\n",
        "y = x.replace(\"1\",\"0\")\n",
        "print(y)\n",
        "y = x.replace(\"1\", \"0\", 2)\n",
        "print(y)\n",
        "print()\n",
        "\n",
        "list = x.split(' ')\n",
        "print(x)\n",
        "print(list)"
      ],
      "metadata": {
        "colab": {
          "base_uri": "https://localhost:8080/"
        },
        "id": "KhaK7k5aQ2QP",
        "outputId": "3a6e7c70-d3c9-4f62-9f2c-700da19dbc7d"
      },
      "execution_count": null,
      "outputs": [
        {
          "output_type": "stream",
          "name": "stdout",
          "text": [
            "12\n",
            "15\n",
            "-1\n",
            "\n",
            "0 0 0 0abc\n",
            "0 0 1 1abc\n",
            "\n",
            "1 1 1 1abc\n",
            "['1', '1', '1', '1abc']\n"
          ]
        }
      ]
    },
    {
      "cell_type": "code",
      "source": [
        "# whitespace.py\n",
        "#!/usr/bin/env python3\n",
        "data = \"\\t  \\nabc  def\\t  \\n\"\n",
        "\n",
        "# The strip method removes leading and trailing\n",
        "# whitespace\n",
        "result = data.strip()\n",
        "print(len(data), \":\", len(result))\n",
        "\n",
        "# The rstrip method removes trailing whitespace\n",
        "result = data.rstrip()\n",
        "print(len(data), \":\", len(result))\n",
        "\n",
        "# The lstrip method removes leading whitespace\n",
        "result = data.lstrip()\n",
        "print(len(data), \":\", len(result))\n"
      ],
      "metadata": {
        "colab": {
          "base_uri": "https://localhost:8080/"
        },
        "id": "QpaSKirBRc-2",
        "outputId": "89329ffc-1c08-4690-db27-51da8695e785"
      },
      "execution_count": null,
      "outputs": [
        {
          "output_type": "stream",
          "name": "stdout",
          "text": [
            "16 : 8\n",
            "16 : 12\n",
            "16 : 12\n"
          ]
        }
      ]
    },
    {
      "cell_type": "code",
      "source": [
        "# format.py\n",
        "#!/usr/bin/env python3\n",
        "quot = \"first name: {0}\\nlast name: {1}\"\n",
        "line = quot.format(\"mike\", \"smith\")\n",
        "print(line)\n",
        " \n",
        "quot=\"first name: {first}\\nlast name: {last}\"\n",
        "line=quot.format(first=\"Michael\", last=\"Smith\")\n",
        "print(line)\n"
      ],
      "metadata": {
        "colab": {
          "base_uri": "https://localhost:8080/"
        },
        "id": "v1-pTV54QetS",
        "outputId": "06bdd4b2-a928-4beb-e04b-4bef2cf1ebf3"
      },
      "execution_count": null,
      "outputs": [
        {
          "output_type": "stream",
          "name": "stdout",
          "text": [
            "first name: mike\n",
            "last name: smith\n",
            "first name: Michael\n",
            "last name: Smith\n"
          ]
        }
      ]
    },
    {
      "cell_type": "code",
      "source": [
        "# format1.py\n",
        "#!/usr/bin/env python3\n",
        "name = \"michael\"\n",
        "age = 65\n",
        "average = 92.65\n",
        "print(\"|%s %d %f|\" % (name, age, average))\n"
      ],
      "metadata": {
        "colab": {
          "base_uri": "https://localhost:8080/"
        },
        "id": "ObUPWf1GQgru",
        "outputId": "c4963d58-62bb-479f-d2e6-688f8cf7962e"
      },
      "execution_count": null,
      "outputs": [
        {
          "output_type": "stream",
          "name": "stdout",
          "text": [
            "|michael 65 92.650000|\n"
          ]
        }
      ]
    },
    {
      "cell_type": "code",
      "source": [
        "# format2.py\n",
        "#!/usr/bin/env python3\n",
        "name = \"michael\"\n",
        "age = 65\n",
        "average = 92.65\n",
        "print(\"|%-10s %5d %5.2f|\" % (name, age, average + 1))"
      ],
      "metadata": {
        "colab": {
          "base_uri": "https://localhost:8080/"
        },
        "id": "gC9iLLtQQxjB",
        "outputId": "549964b1-89fe-409d-f162-b6445b7dcbe3"
      },
      "execution_count": null,
      "outputs": [
        {
          "output_type": "stream",
          "name": "stdout",
          "text": [
            "|michael       65 93.65|\n"
          ]
        }
      ]
    },
    {
      "cell_type": "code",
      "source": [
        "# conversation.py\n",
        "#!/usr/bin/env python3\n",
        "x = \"10\"\n",
        "y = 20\n",
        "result = int(x) + y + int(\"30\")\n",
        "print(result)\n",
        "print(\"The result is: \" + str(result))\n",
        "a = 23.45\n",
        "b = \"12.34\"\n",
        "print(a + float(b))\n",
        "print(ord(\"A\"))\n",
        "print(chr(65))\n"
      ],
      "metadata": {
        "colab": {
          "base_uri": "https://localhost:8080/"
        },
        "id": "IhuiOy7bQZmp",
        "outputId": "c5a815be-e6d8-4b43-e441-3b7140098936"
      },
      "execution_count": null,
      "outputs": [
        {
          "output_type": "stream",
          "name": "stdout",
          "text": [
            "60\n",
            "The result is: 60\n",
            "35.79\n",
            "65\n",
            "A\n"
          ]
        }
      ]
    },
    {
      "cell_type": "code",
      "source": [
        "# slices.py\n",
        "#!/usr/bin/env python3\n",
        "text = \"Spam and eggs\"\n",
        "s1 = text[0]               # \"S\"\n",
        "s2 = text[5:8]             # \"and\"\n",
        "s3 = text[4:]              # \" and eggs\"\n",
        "s4 = text[:4]              # \"Spam\"\n",
        "s5 = text[-1]              # \"s\"\n",
        "s6 = text[-3:-1]           # \"gg\"\n",
        "\n",
        "fmt = \"{0}|{1}|{2}|{3}|{4}|{5}\"\n",
        "print(fmt.format(s1, s2, s3, s4, s5, s6))"
      ],
      "metadata": {
        "colab": {
          "base_uri": "https://localhost:8080/"
        },
        "id": "cOMmE4a1RC1K",
        "outputId": "0c79a0ff-4987-4196-86fb-610de2adf8ba"
      },
      "execution_count": null,
      "outputs": [
        {
          "output_type": "stream",
          "name": "stdout",
          "text": [
            "S|and| and eggs|Spam|s|gg\n"
          ]
        }
      ]
    },
    {
      "cell_type": "code",
      "source": [
        "# stringops.py\n",
        "#!/usr/bin/env python3\n",
        "# The plus (+) operator returns concatenated strings\n",
        "first = \"Mike\"\n",
        "last = \"Smith\"\n",
        "full = first + \" \" + last\n",
        "print(full)  # Mike Smith\n",
        "\n",
        "# The asterisk (*) operator returns a repeated string \n",
        "stars = \"***\" * 3\n",
        "print(len(stars), \":\", stars) # 9 : *********\n",
        "\n",
        "# The in operator is convenient for membership tests\n",
        "x = \"Hello there\"\n",
        "print('t' in x)     # True\n",
        "print('ell' in x)   # True\n",
        "print('hell' in x)  # False \n"
      ],
      "metadata": {
        "colab": {
          "base_uri": "https://localhost:8080/"
        },
        "id": "TXJ8GaDnROR7",
        "outputId": "960e7cc1-8209-4319-f85d-7bbdd4031fc5"
      },
      "execution_count": null,
      "outputs": [
        {
          "output_type": "stream",
          "name": "stdout",
          "text": [
            "Mike Smith\n",
            "9 : *********\n",
            "True\n",
            "True\n",
            "False\n"
          ]
        }
      ]
    }
  ]
}